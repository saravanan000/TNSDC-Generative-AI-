{
  "nbformat": 4,
  "nbformat_minor": 0,
  "metadata": {
    "colab": {
      "provenance": []
    },
    "kernelspec": {
      "name": "python3",
      "display_name": "Python 3"
    },
    "language_info": {
      "name": "python"
    }
  },
  "cells": [
    {
      "cell_type": "code",
      "execution_count": 1,
      "metadata": {
        "colab": {
          "base_uri": "https://localhost:8080/"
        },
        "id": "8SKO7dVAGzEA",
        "outputId": "40f40f6e-a0aa-4531-952d-446bb748f381"
      },
      "outputs": [
        {
          "output_type": "stream",
          "name": "stdout",
          "text": [
            "Requirement already satisfied: nltk in /usr/local/lib/python3.10/dist-packages (3.8.1)\n",
            "Requirement already satisfied: click in /usr/local/lib/python3.10/dist-packages (from nltk) (8.1.7)\n",
            "Requirement already satisfied: joblib in /usr/local/lib/python3.10/dist-packages (from nltk) (1.4.0)\n",
            "Requirement already satisfied: regex>=2021.8.3 in /usr/local/lib/python3.10/dist-packages (from nltk) (2023.12.25)\n",
            "Requirement already satisfied: tqdm in /usr/local/lib/python3.10/dist-packages (from nltk) (4.66.2)\n",
            "Sentiment: Positive\n"
          ]
        },
        {
          "output_type": "stream",
          "name": "stderr",
          "text": [
            "[nltk_data] Downloading package vader_lexicon to /root/nltk_data...\n"
          ]
        }
      ],
      "source": [
        "\n",
        "\n",
        "# Install NLTK (Natural Language Toolkit)\n",
        "!pip install nltk\n",
        "\n",
        "# Import NLTK and download necessary resources\n",
        "import nltk\n",
        "nltk.download('vader_lexicon')  # Download the pre-trained model for sentiment analysis\n",
        "\n",
        "# Import SentimentIntensityAnalyzer from NLTK\n",
        "from nltk.sentiment.vader import SentimentIntensityAnalyzer\n",
        "\n",
        "# Create an instance of SentimentIntensityAnalyzer\n",
        "sid = SentimentIntensityAnalyzer()\n",
        "\n",
        "# Define a function to perform sentiment analysis\n",
        "def analyze_sentiment(sentence):\n",
        "    # Get the sentiment scores\n",
        "    scores = sid.polarity_scores(sentence)\n",
        "    # Determine the sentiment label based on the compound score\n",
        "    if scores['compound'] >= 0.05:\n",
        "        return 'Positive'\n",
        "    elif scores['compound'] <= -0.05:\n",
        "        return 'Negative'\n",
        "    else:\n",
        "        return 'Neutral'\n",
        "\n",
        "# Test the function with a sample sentence\n",
        "sample_sentence = \"I love this product! It's fantastic.\"\n",
        "print(\"Sentiment:\", analyze_sentiment(sample_sentence))"
      ]
    }
  ]
}